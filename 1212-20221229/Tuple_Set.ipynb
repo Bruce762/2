{
 "cells": [
  {
   "cell_type": "markdown",
   "metadata": {
    "colab_type": "text",
    "id": "view-in-github"
   },
   "source": [
    "<a href=\"https://colab.research.google.com/github/HsiaoEn/python-programming/blob/master/5.Container/Tuple_Set.ipynb\" target=\"_parent\"><img src=\"https://colab.research.google.com/assets/colab-badge.svg\" alt=\"Open In Colab\"/></a>"
   ]
  },
  {
   "cell_type": "markdown",
   "metadata": {
    "colab_type": "text",
    "id": "unb8q-dox27Y"
   },
   "source": [
    "## Tuple\n",
    "\n",
    "和 list 很像，都是一系列的任意型別資料。但與 list 不同的是，tuple 中的資料一經宣告後，**就不可做任何異動**，所以我們可以把 tuple 視為常數的串列。"
   ]
  },
  {
   "cell_type": "code",
   "execution_count": null,
   "metadata": {
    "colab": {},
    "colab_type": "code",
    "id": "C8bFwtXQx27Z",
    "outputId": "54515622-8b25-4305-9fd5-c98b5d720416"
   },
   "outputs": [
    {
     "name": "stdout",
     "output_type": "stream",
     "text": [
      "()\n",
      "()\n"
     ]
    }
   ],
   "source": [
    "# 宣告空的 tuple\n",
    "T1 = ()\n",
    "T2 = tuple()\n",
    "\n",
    "print(T1)\n",
    "print(T2)"
   ]
  },
  {
   "cell_type": "code",
   "execution_count": null,
   "metadata": {
    "colab": {},
    "colab_type": "code",
    "id": "MZoybAEhx27s",
    "outputId": "10a14d28-d1ef-4bbe-f6d8-65bb48ef4e4f"
   },
   "outputs": [
    {
     "name": "stdout",
     "output_type": "stream",
     "text": [
      "[1, 2, 3]\n",
      "(1, 2, 3)\n",
      "[1, 2, 3]\n",
      "(1, 2, 3)\n"
     ]
    }
   ],
   "source": [
    "# Tuple 和 List 是可以互相轉換的\n",
    "T = (1, 2, 3)\n",
    "L = list(T)\n",
    "print(L)\n",
    "print(T)\n",
    "\n",
    "L = [1, 2, 3]\n",
    "T = tuple(L)\n",
    "print(L)\n",
    "print(T)"
   ]
  },
  {
   "cell_type": "markdown",
   "metadata": {
    "colab_type": "text",
    "id": "jofK7Fdpx27v"
   },
   "source": [
    "## Set\n",
    "\n",
    "集合與List最大的不同是沒有順序性。"
   ]
  },
  {
   "cell_type": "code",
   "execution_count": null,
   "metadata": {
    "colab": {},
    "colab_type": "code",
    "id": "8kRzBnpNx27v",
    "outputId": "9da04568-3eec-4f23-b0cd-03fd007c9491"
   },
   "outputs": [
    {
     "name": "stdout",
     "output_type": "stream",
     "text": [
      "set()\n"
     ]
    }
   ],
   "source": [
    "# 宣告一個空集合\n",
    "S = set()\n",
    "\n",
    "print(S)"
   ]
  },
  {
   "cell_type": "code",
   "execution_count": null,
   "metadata": {
    "colab": {},
    "colab_type": "code",
    "id": "-KfUjgObx27z",
    "outputId": "5fa5ea1e-994b-45f9-e2c9-34356dc852f6"
   },
   "outputs": [
    {
     "name": "stdout",
     "output_type": "stream",
     "text": [
      "{1, 2, 3, 4}\n",
      "{3, 4, 5, 6}\n"
     ]
    }
   ],
   "source": [
    "# 宣告有東西的集合使用大括號 {}，\n",
    "S1 = {1, 2, 3, 4}\n",
    "S2 = {3, 4, 5, 6, 6}\n",
    "\n",
    "print(S1)\n",
    "print(S2)"
   ]
  },
  {
   "cell_type": "code",
   "execution_count": null,
   "metadata": {
    "colab": {},
    "colab_type": "code",
    "id": "COcvMsacx272",
    "outputId": "8bd9a5a5-48b2-49a7-b997-65138df6c2eb"
   },
   "outputs": [
    {
     "name": "stdout",
     "output_type": "stream",
     "text": [
      "{3, 4}\n",
      "{1, 2, 3, 4, 5, 6}\n",
      "{1, 2}\n",
      "{5, 6}\n",
      "{1, 2, 5, 6}\n",
      "False\n",
      "False\n"
     ]
    }
   ],
   "source": [
    "# 兩集合的交集使用 & 符號\n",
    "print(S1 & S2)\n",
    "\n",
    "# 兩集合的聯集使用 | 符號\n",
    "print(S1 | S2)\n",
    "\n",
    "# 兩集合的差集使用 - 符號\n",
    "print(S1 - S2)\n",
    "print(S2 - S1)\n",
    "\n",
    "# 兩集合的互斥集使用 ^ 符號\n",
    "print(S1 ^ S2)\n",
    "\n",
    "# 使用 >, <, =, >=, <=, == 判斷集合間的子集關係\n",
    "print(S1 <= S2)\n",
    "print(S1 >= S2)"
   ]
  },
  {
   "cell_type": "code",
   "execution_count": null,
   "metadata": {
    "colab": {},
    "colab_type": "code",
    "id": "dk5EAx01x278",
    "outputId": "ce549928-2c77-4ecd-b797-f8c56bf93f92"
   },
   "outputs": [
    {
     "name": "stdout",
     "output_type": "stream",
     "text": [
      "{1, 2, 3, 4}\n",
      "{1, 2, 3, 5}\n"
     ]
    }
   ],
   "source": [
    "# 集合可由 list 及 tuple 轉換而來，不過集合中的資料是沒有順序的。\n",
    "S = set([3, 1, 2, 4])\n",
    "print(S)\n",
    "\n",
    "S = set((1, 5, 2, 3))\n",
    "print(S)"
   ]
  },
  {
   "cell_type": "code",
   "execution_count": null,
   "metadata": {
    "colab": {},
    "colab_type": "code",
    "id": "zvQuIIEOx27_",
    "outputId": "b60ed2a6-9860-4991-d27c-578f35cbd9a6"
   },
   "outputs": [
    {
     "name": "stdout",
     "output_type": "stream",
     "text": [
      "{1, 2, 3, 4, 7}\n",
      "{1, 2, 3, 4, 5, 6, 7}\n"
     ]
    }
   ],
   "source": [
    "S = {1, 2, 3, 4}\n",
    "\n",
    "# 在集合中增加一物件\n",
    "S.add(7)\n",
    "print(S)\n",
    "\n",
    "# 若要將集合與其他集合做合併，可使用 update()，兩集合重複的物件將不會重複合併。\n",
    "S.update((4, 5, 6))\n",
    "print(S)"
   ]
  }
 ],
 "metadata": {
  "colab": {
   "authorship_tag": "ABX9TyMLjblb2LOWQ7yX7msW38vN",
   "include_colab_link": true,
   "name": "Tuple_Set",
   "provenance": []
  },
  "kernelspec": {
   "display_name": "Python 3 (ipykernel)",
   "language": "python",
   "name": "python3"
  },
  "language_info": {
   "codemirror_mode": {
    "name": "ipython",
    "version": 3
   },
   "file_extension": ".py",
   "mimetype": "text/x-python",
   "name": "python",
   "nbconvert_exporter": "python",
   "pygments_lexer": "ipython3",
   "version": "3.7.13"
  }
 },
 "nbformat": 4,
 "nbformat_minor": 1
}

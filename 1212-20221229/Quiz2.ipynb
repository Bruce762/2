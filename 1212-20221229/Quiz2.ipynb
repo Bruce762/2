{
 "cells": [
  {
   "cell_type": "code",
   "execution_count": 2,
   "id": "4aa612fc",
   "metadata": {},
   "outputs": [],
   "source": [
    "# quiz 1\n",
    "\n",
    "# 宣告一個 list\n",
    "# 新增 1 筆任意數字 \n",
    "# 新增 5 筆任意數字\n",
    "# 逆排序\n",
    "# 刪除 index 為 3的數字\n",
    "# 在前面新增 5 個任意數字\n",
    "# 排序\n",
    "# 轉換成 tuple"
   ]
  },
  {
   "cell_type": "code",
   "execution_count": 3,
   "id": "e83932d0",
   "metadata": {},
   "outputs": [],
   "source": [
    "# quiz 2\n",
    "\n",
    "# 宣告兩個一樣長度的 list, 接著使用 zip 加上型別轉換，建構出一個 dictionary\n",
    "\n",
    "#fruit = ['apple', 'banana', 'guava', 'cherry', 'grape', 'lemon']\n",
    "#price = [100, 30, 40, 120, 50, 19]"
   ]
  },
  {
   "cell_type": "code",
   "execution_count": 4,
   "id": "22e8be4a",
   "metadata": {},
   "outputs": [],
   "source": [
    "# quiz 3\n",
    "\n",
    "# 宣告兩個集合 (set) ，一個集合 (s1) 內有 -3至 5 的所有整數，另一個 (s2) 有 1 至 8 的所有整數\n",
    "# 印出兩集合的 交集\n",
    "# 印出兩集合的 聯集\n",
    "# 印出兩集合互相的 差集\n",
    "\n",
    "\n",
    "#set_a = {-3, -2, -1, 0, 1, 2, 3, 4, 5}\n",
    "#set_b = {1, 2, 3, 4, 5, 6, 7, 8}"
   ]
  },
  {
   "cell_type": "code",
   "execution_count": null,
   "id": "a1a4a83f",
   "metadata": {},
   "outputs": [],
   "source": []
  }
 ],
 "metadata": {
  "kernelspec": {
   "display_name": "Python 3 (ipykernel)",
   "language": "python",
   "name": "python3"
  },
  "language_info": {
   "codemirror_mode": {
    "name": "ipython",
    "version": 3
   },
   "file_extension": ".py",
   "mimetype": "text/x-python",
   "name": "python",
   "nbconvert_exporter": "python",
   "pygments_lexer": "ipython3",
   "version": "3.7.13"
  }
 },
 "nbformat": 4,
 "nbformat_minor": 5
}

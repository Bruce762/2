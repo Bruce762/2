{
 "cells": [
  {
   "cell_type": "markdown",
   "metadata": {
    "colab_type": "text",
    "id": "VUSiTDYAnyH2"
   },
   "source": [
    "# 函式 - Functions"
   ]
  },
  {
   "cell_type": "markdown",
   "metadata": {
    "colab_type": "text",
    "id": "4dt4-hlYnyH6"
   },
   "source": [
    "本章節內容大綱\n",
    "* [函式 Function](#函式-Function)\n",
    "* [匿名函式 Lambda Function](#匿名函式-Lambda-Function)"
   ]
  },
  {
   "cell_type": "markdown",
   "metadata": {
    "colab_type": "text",
    "id": "mUVaDaNPnyH9"
   },
   "source": [
    "## 函式 Function"
   ]
  },
  {
   "cell_type": "code",
   "execution_count": null,
   "metadata": {
    "colab": {},
    "colab_type": "code",
    "id": "_Iav4JghnyH-"
   },
   "outputs": [],
   "source": [
    "'''\n",
    "    \n",
    "    def function_name(parameters):\n",
    "        'function docstring'\n",
    "        do something\n",
    "        return something\n",
    "\n",
    "'''"
   ]
  },
  {
   "cell_type": "code",
   "execution_count": null,
   "metadata": {
    "colab": {},
    "colab_type": "code",
    "id": "FeugUSApnyIK"
   },
   "outputs": [],
   "source": [
    "# 什麼事都沒有做的 function\n",
    "def do_nothing():\n",
    "    pass"
   ]
  },
  {
   "cell_type": "code",
   "execution_count": null,
   "metadata": {
    "colab": {},
    "colab_type": "code",
    "id": "gSg3sMH2nyIV"
   },
   "outputs": [],
   "source": [
    "do_nothing()"
   ]
  },
  {
   "cell_type": "code",
   "execution_count": null,
   "metadata": {
    "colab": {},
    "colab_type": "code",
    "id": "rVJlGHSUnyIe"
   },
   "outputs": [],
   "source": [
    "# 沒有參數/回傳值的，純粹執行一些事情的 function\n",
    "def say_hello():\n",
    "    print('hello!')"
   ]
  },
  {
   "cell_type": "code",
   "execution_count": null,
   "metadata": {
    "colab": {},
    "colab_type": "code",
    "id": "3rQTOaGgnyIq"
   },
   "outputs": [],
   "source": [
    "say_hello()"
   ]
  },
  {
   "cell_type": "code",
   "execution_count": null,
   "metadata": {
    "colab": {},
    "colab_type": "code",
    "id": "gwmT-713nyI2"
   },
   "outputs": [],
   "source": [
    "# 沒有參數，但有回傳值的 function\n",
    "def three():\n",
    "    return 3"
   ]
  },
  {
   "cell_type": "code",
   "execution_count": null,
   "metadata": {
    "colab": {},
    "colab_type": "code",
    "id": "5JbfCdRYnyJD"
   },
   "outputs": [],
   "source": [
    "print(three())"
   ]
  },
  {
   "cell_type": "code",
   "execution_count": null,
   "metadata": {
    "colab": {},
    "colab_type": "code",
    "id": "Ct0itQpjnyJO"
   },
   "outputs": [],
   "source": [
    "# 有參數/回傳值的 function\n",
    "def add(a, b):\n",
    "    '''\n",
    "    This function adds up two parameters and then return.  \n",
    "    '''\n",
    "    #print(f'a = {a}, b = {b}')\n",
    "    return a + b"
   ]
  },
  {
   "cell_type": "code",
   "execution_count": null,
   "metadata": {
    "colab": {},
    "colab_type": "code",
    "id": "ifDQcxfWnyJa"
   },
   "outputs": [],
   "source": [
    "print(add(3, 7))"
   ]
  },
  {
   "cell_type": "code",
   "execution_count": null,
   "metadata": {
    "colab": {},
    "colab_type": "code",
    "id": "wMD0bi4bnyJh",
    "outputId": "d4664942-2316-4ec4-cc10-8fe5cc8c1102"
   },
   "outputs": [
    {
     "name": "stdout",
     "output_type": "stream",
     "text": [
      "[2, 3, 5, 7, 11, 13, 17, 19, 23, 29, 31, 37, 41, 43, 47, 53, 59, 61, 67, 71, 73, 79, 83, 89, 97]\n"
     ]
    }
   ],
   "source": [
    "def find_prime(x):\n",
    "    \n",
    "    prime = [True] * (x + 1)\n",
    "    prime[0] = False\n",
    "    prime[1] = False\n",
    "    \n",
    "    i = 2\n",
    "    while i < x:\n",
    "        \n",
    "        while i < x and prime[i] == False:\n",
    "            i += 1\n",
    "            \n",
    "        for value in range(2*i, x + 1, i):\n",
    "            prime[value] = False\n",
    "            \n",
    "        i += 1\n",
    "        \n",
    "    return [index for index, value in enumerate(prime) if value == True]"
   ]
  },
  {
   "cell_type": "markdown",
   "metadata": {
    "colab_type": "text",
    "id": "zlsu2YNFnyJs"
   },
   "source": [
    "## 匿名函式 Lambda Function"
   ]
  },
  {
   "cell_type": "code",
   "execution_count": null,
   "metadata": {
    "colab": {},
    "colab_type": "code",
    "id": "Mi6H5hxsnyJt"
   },
   "outputs": [],
   "source": [
    "'''\n",
    "function_name = lambda input : calculation or output\n",
    "'''\n",
    "\n",
    "f = lambda x : x ** 2"
   ]
  },
  {
   "cell_type": "code",
   "execution_count": null,
   "metadata": {
    "colab": {},
    "colab_type": "code",
    "id": "OyKESOuonyJ2"
   },
   "outputs": [],
   "source": [
    "print(f())"
   ]
  },
  {
   "cell_type": "code",
   "execution_count": null,
   "metadata": {
    "colab": {},
    "colab_type": "code",
    "id": "p0dGm99znyKI"
   },
   "outputs": [],
   "source": [
    "f = lambda x, y: x**2 + 2*x*y + y**2"
   ]
  },
  {
   "cell_type": "code",
   "execution_count": null,
   "metadata": {
    "colab": {},
    "colab_type": "code",
    "id": "9uQWvkqHnyKP"
   },
   "outputs": [],
   "source": [
    "print(f(,))"
   ]
  },
  {
   "cell_type": "code",
   "execution_count": null,
   "metadata": {
    "colab": {},
    "colab_type": "code",
    "id": "DxcH2tiDnyKa"
   },
   "outputs": [],
   "source": [
    "f = lambda x : [i*i for i in range(0, x+1)]"
   ]
  },
  {
   "cell_type": "code",
   "execution_count": null,
   "metadata": {
    "colab": {},
    "colab_type": "code",
    "id": "SCc1EsxOnyKi"
   },
   "outputs": [],
   "source": [
    "print(f())"
   ]
  },
  {
   "cell_type": "code",
   "execution_count": null,
   "metadata": {
    "colab": {},
    "colab_type": "code",
    "id": "IdTDaxXrnyKp"
   },
   "outputs": [],
   "source": [
    "f = lambda s : s.upper() + '!'"
   ]
  },
  {
   "cell_type": "code",
   "execution_count": null,
   "metadata": {
    "colab": {},
    "colab_type": "code",
    "id": "GDUwKPaDnyKy"
   },
   "outputs": [],
   "source": [
    "print(f(''))"
   ]
  }
 ],
 "metadata": {
  "colab": {
   "collapsed_sections": [],
   "name": "Functions",
   "provenance": [
    {
     "file_id": "1fFyOADha-PaIslaAJK253t_7fPN3-Pxc",
     "timestamp": 1594349326662
    }
   ]
  },
  "kernelspec": {
   "display_name": "Python 3 (ipykernel)",
   "language": "python",
   "name": "python3"
  },
  "language_info": {
   "codemirror_mode": {
    "name": "ipython",
    "version": 3
   },
   "file_extension": ".py",
   "mimetype": "text/x-python",
   "name": "python",
   "nbconvert_exporter": "python",
   "pygments_lexer": "ipython3",
   "version": "3.7.13"
  }
 },
 "nbformat": 4,
 "nbformat_minor": 1
}

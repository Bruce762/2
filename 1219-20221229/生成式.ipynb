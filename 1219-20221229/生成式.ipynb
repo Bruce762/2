{
 "cells": [
  {
   "cell_type": "markdown",
   "metadata": {
    "colab_type": "text",
    "id": "F0I2tqnL--rr"
   },
   "source": [
    "## 生成式"
   ]
  },
  {
   "cell_type": "code",
   "execution_count": null,
   "metadata": {
    "colab": {},
    "colab_type": "code",
    "id": "jL3Sn0sE--rs",
    "outputId": "ac6456e6-6b6e-4896-b0cf-06b5e5bf62f2"
   },
   "outputs": [
    {
     "name": "stdout",
     "output_type": "stream",
     "text": [
      "[0, 1, 2, 3, 4, 5]\n"
     ]
    }
   ],
   "source": [
    "L = []\n",
    "\n",
    "for i in range(6):\n",
    "    L.append(i)\n",
    "print(L)\n",
    "\n",
    "# L = list(range(6))\n",
    "# print(L)"
   ]
  },
  {
   "cell_type": "code",
   "execution_count": null,
   "metadata": {
    "colab": {},
    "colab_type": "code",
    "id": "NeIv0VqS--ru",
    "outputId": "3d60e00b-528e-4354-92e4-b9dd9d586348"
   },
   "outputs": [
    {
     "name": "stdout",
     "output_type": "stream",
     "text": [
      "[1, 2, 3, 4, 5, 6]\n"
     ]
    }
   ],
   "source": [
    "# list 生成式的格式為 :  \n",
    "# [運算式 for 項目 in 可迭代項目 (if 條件式)]\n",
    "# 注意運算式可為任意物件，例如 30, \"HI\", [i, i+1, i+2] ... 等\n",
    "\n",
    "L = [i+1 for i in range(6)]\n",
    "# i =  0, 1, 2, 3, 4, 5\n",
    "# L = [1, 2, 3, 4, 5, 6]\n",
    "print(L)"
   ]
  },
  {
   "cell_type": "code",
   "execution_count": null,
   "metadata": {
    "colab": {},
    "colab_type": "code",
    "id": "mmVYrdMT--rw",
    "outputId": "286a0e5e-7a6f-4f41-c4f2-0d77e7718f42"
   },
   "outputs": [
    {
     "name": "stdout",
     "output_type": "stream",
     "text": [
      "[0, 2, 4]\n"
     ]
    }
   ],
   "source": [
    "# List 的生成式 + 條件控制\n",
    "L = [i for i in range(6) if i % 2 == 0]\n",
    "# i = 0, 2, 4\n",
    "# L =[0, 2, 4]\n",
    "print(L)"
   ]
  },
  {
   "cell_type": "code",
   "execution_count": null,
   "metadata": {
    "colab": {},
    "colab_type": "code",
    "id": "HU2EoT7V--r0",
    "outputId": "14113009-a603-4b2a-cbdc-bfd094b33bae"
   },
   "outputs": [
    {
     "name": "stdout",
     "output_type": "stream",
     "text": [
      "{0, 1, 2, 3, 4, 5}\n"
     ]
    }
   ],
   "source": [
    "# Set 的生成式\n",
    "S = {i for i in range(6)}\n",
    "print(S)"
   ]
  },
  {
   "cell_type": "code",
   "execution_count": 1,
   "metadata": {
    "colab": {},
    "colab_type": "code",
    "id": "8EAej2AZ--r2",
    "outputId": "54ee338d-929a-45ca-d435-71b02ba2370f"
   },
   "outputs": [
    {
     "name": "stdout",
     "output_type": "stream",
     "text": [
      "{1: 1, 2: 4, 3: 9, 4: 16, 5: 25, 6: 36}\n"
     ]
    }
   ],
   "source": [
    "# Dictionary 的生成式，運算式須為 key : value\n",
    "D = {i+1: (i+1)**2 for i in range(6)}\n",
    "print(D)"
   ]
  },
  {
   "cell_type": "code",
   "execution_count": null,
   "metadata": {
    "colab": {},
    "colab_type": "code",
    "id": "N6xjSRc6--r5"
   },
   "outputs": [],
   "source": [
    "# Tuple 沒有生成式 !"
   ]
  },
  {
   "cell_type": "markdown",
   "metadata": {
    "colab_type": "text",
    "id": "twH86nPD2JUP"
   },
   "source": [
    "-------"
   ]
  }
 ],
 "metadata": {
  "colab": {
   "authorship_tag": "ABX9TyPrTLH4Xlp7M4kTh6cXJr67",
   "name": "生成式.ipynb",
   "provenance": []
  },
  "kernelspec": {
   "display_name": "Python 3 (ipykernel)",
   "language": "python",
   "name": "python3"
  },
  "language_info": {
   "codemirror_mode": {
    "name": "ipython",
    "version": 3
   },
   "file_extension": ".py",
   "mimetype": "text/x-python",
   "name": "python",
   "nbconvert_exporter": "python",
   "pygments_lexer": "ipython3",
   "version": "3.9.13"
  }
 },
 "nbformat": 4,
 "nbformat_minor": 1
}

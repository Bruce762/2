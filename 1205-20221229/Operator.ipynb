{
 "cells": [
  {
   "cell_type": "markdown",
   "metadata": {
    "colab_type": "text",
    "id": "view-in-github"
   },
   "source": [
    "<a href=\"https://colab.research.google.com/github/HsiaoEn/python-programming/blob/master/4.Operator/Operator.ipynb\" target=\"_parent\"><img src=\"https://colab.research.google.com/assets/colab-badge.svg\" alt=\"Open In Colab\"/></a>"
   ]
  },
  {
   "cell_type": "markdown",
   "metadata": {
    "colab_type": "text",
    "id": "9An0Pm1znloO"
   },
   "source": [
    "## 變數的運算符號"
   ]
  },
  {
   "cell_type": "markdown",
   "metadata": {
    "colab_type": "text",
    "id": "6LuIUd_AnloQ"
   },
   "source": [
    "\n",
    "\n",
    "Python 對於各種變數支援不同的運算符號集。整數、浮點數及複數支援一般四則運算、次方等，還有邏輯符號(and，or，not)及比較符號(>=，==，<=，!=)，而字串則支援串接(+)，重複(*)，也支援比較符號。"
   ]
  },
  {
   "cell_type": "markdown",
   "metadata": {
    "colab_type": "text",
    "id": "WSaxQpfsnloR"
   },
   "source": [
    "### Arithmetic Operators"
   ]
  },
  {
   "cell_type": "markdown",
   "metadata": {
    "colab_type": "text",
    "id": "FCUv1iFjnloS"
   },
   "source": [
    "| Symbol | Task Performed |\n",
    "|----|---|\n",
    "| +  | Addition |\n",
    "| -  | Subtraction |\n",
    "| /  | division |\n",
    "| %  | mod |\n",
    "| *  | multiplication |\n",
    "| //  | floor division |\n",
    "| **  | to the power of |"
   ]
  },
  {
   "cell_type": "code",
   "execution_count": null,
   "metadata": {
    "colab": {},
    "colab_type": "code",
    "id": "2i5_2q-pnloS",
    "outputId": "c79ea10a-db62-4dec-ffdc-ddaeb22030c0"
   },
   "outputs": [
    {
     "name": "stdout",
     "output_type": "stream",
     "text": [
      "10  +  3 = 13\n",
      "10  -  3 = 7\n",
      "10  *  3 = 30\n",
      "10  /  3 = 3.3333333333333335\n",
      "10 //  3 = 3\n",
      "10 % 3 = 1\n",
      "10 **  3 = 1000\n"
     ]
    }
   ],
   "source": [
    "a, b = 10, 3\n",
    "\n",
    "print(f'{a}  +  {b} = {a + b}')\n",
    "print(f'{a}  -  {b} = {a - b}')\n",
    "print(f'{a}  *  {b} = {a * b}')\n",
    "print(f'{a}  /  {b} = {a / b}') # 一般除法，就算是兩個整數相除，也會將結果自動轉為浮點數\n",
    "\n",
    "# Floor division，只留下商\n",
    "print(f'{a} //  {b} = {a // b}')\n",
    "\n",
    "# 取餘數\n",
    "print(f'{a} % {b} = {a % b}')\n",
    "\n",
    "# 指數寫法，例如10 的 3 次方\n",
    "print(f'{a} **  {b} = {a ** b}')"
   ]
  },
  {
   "cell_type": "code",
   "execution_count": null,
   "metadata": {
    "colab": {},
    "colab_type": "code",
    "id": "tzYt9eXlnloY",
    "outputId": "2e21e0d6-b641-4500-bd97-eaf540fc473c"
   },
   "outputs": [
    {
     "name": "stdout",
     "output_type": "stream",
     "text": [
      "Hello World\n",
      "Hello Hello Hello Hello Hello World World World \n"
     ]
    }
   ],
   "source": [
    "s1 = 'Hello'\n",
    "s2 = 'World'\n",
    "\n",
    "# 字串的 + 符號為串接意思\n",
    "S = s1 + ' ' + s2\n",
    "print(S)\n",
    "# 字串的 * 符號為重複意思\n",
    "S = (s1+' ') * 5 + (s2+' ') * 3\n",
    "print(S)"
   ]
  },
  {
   "cell_type": "markdown",
   "metadata": {
    "colab_type": "text",
    "id": "C4gb7ioZnloc"
   },
   "source": [
    "### Comparison Operators"
   ]
  },
  {
   "cell_type": "markdown",
   "metadata": {
    "colab_type": "text",
    "id": "UIZGEZ2Wnloc"
   },
   "source": [
    "| Symbol | Task Performed |\n",
    "|----|---|\n",
    "| == | True, if it is equal |\n",
    "| !=  | True, if not equal to |\n",
    "| < | less than |\n",
    "| > | greater than |\n",
    "| <=  | less than or equal to |\n",
    "| >=  | greater than or equal to |"
   ]
  },
  {
   "cell_type": "code",
   "execution_count": null,
   "metadata": {
    "colab": {},
    "colab_type": "code",
    "id": "c3ZgH5-Inlod",
    "outputId": "342c706b-4436-4159-f2f7-eae7630b7443"
   },
   "outputs": [
    {
     "name": "stdout",
     "output_type": "stream",
     "text": [
      "3.1  > 3? True\n",
      "3.1  < 3? False\n",
      "3.1 == 3? False\n",
      "3.1 >= 3? True\n",
      "3.1 <= 3? False\n",
      "3.1 != 3? True\n"
     ]
    }
   ],
   "source": [
    "a = 3.1\n",
    "b = 3\n",
    "\n",
    "# 整數與符點數的大小比較相當直觀，但注意複數型態是無法做大小比較的。\n",
    "print(f'{a}  > {b}? {a > b}')\n",
    "print(f'{a}  < {b}? {a < b}')\n",
    "print(f'{a} == {b}? {a == b}')\n",
    "print(f'{a} >= {b}? {a >= b}')\n",
    "print(f'{a} <= {b}? {a <= b}')\n",
    "print(f'{a} != {b}? {a != b}')"
   ]
  },
  {
   "cell_type": "code",
   "execution_count": null,
   "metadata": {
    "colab": {},
    "colab_type": "code",
    "id": "ukeUUuGFnloi",
    "outputId": "9d44fe85-a878-4fb9-e693-15e856d7b2d8"
   },
   "outputs": [
    {
     "name": "stdout",
     "output_type": "stream",
     "text": [
      "abcde  > abcdf? False\n",
      "abcde  < abcdf? True\n",
      "abcde == abcdf? False\n",
      "abcde >= abcdf? False\n",
      "abcde <= abcdf? True\n",
      "abcde != abcdf? True\n"
     ]
    }
   ],
   "source": [
    "a = 'abcde'\n",
    "b = 'abcdf'\n",
    "\n",
    "# 字串的大小比較是依照字典序，想像它們會在字典出現的先後順序，先出現者較小。\n",
    "print(f'{a}  > {b}? {a > b}')\n",
    "print(f'{a}  < {b}? {a < b}')\n",
    "print(f'{a} == {b}? {a == b}')\n",
    "print(f'{a} >= {b}? {a >= b}')\n",
    "print(f'{a} <= {b}? {a <= b}')\n",
    "print(f'{a} != {b}? {a != b}')"
   ]
  }
 ],
 "metadata": {
  "colab": {
   "collapsed_sections": [],
   "include_colab_link": true,
   "name": "Operator",
   "provenance": []
  },
  "kernelspec": {
   "display_name": "Python 3 (ipykernel)",
   "language": "python",
   "name": "python3"
  },
  "language_info": {
   "codemirror_mode": {
    "name": "ipython",
    "version": 3
   },
   "file_extension": ".py",
   "mimetype": "text/x-python",
   "name": "python",
   "nbconvert_exporter": "python",
   "pygments_lexer": "ipython3",
   "version": "3.7.13"
  }
 },
 "nbformat": 4,
 "nbformat_minor": 1
}

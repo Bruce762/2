{
 "cells": [
  {
   "cell_type": "code",
   "execution_count": 1,
   "id": "f86aa49e",
   "metadata": {},
   "outputs": [],
   "source": [
    "# quiz1:\n",
    "\n",
    "# 分別使用 input() 輸入你的名字、性別、年齡\n",
    "# 並使用三種 print() 分別輸出一段包含這些資料的句子。\n",
    "# print(\"\" %())\n",
    "# print(\"\".format())\n",
    "# print(f'')"
   ]
  },
  {
   "cell_type": "code",
   "execution_count": 2,
   "id": "ed8d03eb",
   "metadata": {},
   "outputs": [],
   "source": [
    "# quiz2:\n",
    "\n",
    "# 給定字串如下，使用 slicing 取出\n",
    "# 整數部分\n",
    "# 字元部分\n",
    "s = '1a2b3c4d5e6f'"
   ]
  },
  {
   "cell_type": "code",
   "execution_count": null,
   "id": "e0091817",
   "metadata": {},
   "outputs": [],
   "source": [
    "# quiz3:\n",
    "\n",
    "# 輸入你的身高 (m)，以及體重 (kg)\n",
    "# 計算 BMI 後以兩位小數點的精準度印出 (BMI = 體重(kg) / (身高(m))^2)\n",
    "height = input()\n",
    "weight = input()"
   ]
  },
  {
   "cell_type": "code",
   "execution_count": null,
   "id": "b66d7725",
   "metadata": {},
   "outputs": [],
   "source": [
    "# quiz4:\n",
    "\n",
    "# 給定字串如下，基於自定義置左及置中，以及填補空位的字元\n",
    "# 參考https://www.runoob.com/python/att-string-format.html\n",
    "# 分別印出以下結果:\n",
    "#  1. 佔 15 格置左，空閒格子補 _         \n",
    "#  2. 佔 15 格置中\n",
    "#  3. 佔 15 格置中，空閒格子補 *\n",
    "#  4. 佔 15 格置右\n",
    "#  5. 佔 15 格置右，空閒格子補 ~\n",
    "\n",
    "S = \"abcde\""
   ]
  }
 ],
 "metadata": {
  "kernelspec": {
   "display_name": "Python 3 (ipykernel)",
   "language": "python",
   "name": "python3"
  },
  "language_info": {
   "codemirror_mode": {
    "name": "ipython",
    "version": 3
   },
   "file_extension": ".py",
   "mimetype": "text/x-python",
   "name": "python",
   "nbconvert_exporter": "python",
   "pygments_lexer": "ipython3",
   "version": "3.7.13"
  }
 },
 "nbformat": 4,
 "nbformat_minor": 5
}

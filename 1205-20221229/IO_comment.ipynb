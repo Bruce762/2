{
 "cells": [
  {
   "cell_type": "markdown",
   "metadata": {
    "colab_type": "text",
    "id": "view-in-github"
   },
   "source": [
    "<a href=\"https://colab.research.google.com/github/HsiaoEn/python-programming/blob/master/1.IO/IO_comment.ipynb\" target=\"_parent\"><img src=\"https://colab.research.google.com/assets/colab-badge.svg\" alt=\"Open In Colab\"/></a>"
   ]
  },
  {
   "cell_type": "markdown",
   "metadata": {
    "colab_type": "text",
    "id": "2Sg8gE2TxMPd"
   },
   "source": [
    "# 教學"
   ]
  },
  {
   "cell_type": "markdown",
   "metadata": {
    "colab_type": "text",
    "id": "HIXDnGHDXBiU"
   },
   "source": [
    " # 基本輸入及輸出 - I/O and comment"
   ]
  },
  {
   "cell_type": "markdown",
   "metadata": {
    "colab_type": "text",
    "id": "UP3Oe4zaXBiV"
   },
   "source": [
    "本章節內容大綱\n",
    "* [輸出](#輸出)\n",
    "* [讀入](#讀入)\n",
    "* [加入註解](#加入註解)"
   ]
  },
  {
   "cell_type": "markdown",
   "metadata": {
    "colab_type": "text",
    "id": "7dDXV8B3XBiV"
   },
   "source": [
    " ## 輸出"
   ]
  },
  {
   "cell_type": "code",
   "execution_count": 1,
   "metadata": {
    "colab": {},
    "colab_type": "code",
    "id": "mm1sNvDXXBiW",
    "outputId": "dee1be2a-a0cd-4e8c-85aa-6a0a516f1b5b"
   },
   "outputs": [
    {
     "name": "stdout",
     "output_type": "stream",
     "text": [
      "hello world\n",
      "hello world\n",
      "♪ღ♪*•.¸¸.•*¨¨*•.♪ღ♪*•.¸¸.•*¨¨*•.♪ღ♪\n",
      "░H░A░P░P░Y░♪░B░I░R░T░H░D░A░Y░\n",
      "♪ღ♪*•.¸¸.•*¨¨*•.♪ღ♪*•.¸¸.•*¨¨*•.♪ღ♪\n"
     ]
    }
   ],
   "source": [
    "# 使用雙引號或單引號印出一行字串，使用三引號可印出一段字串\n",
    "print('hello world')\n",
    "print(\"hello world\")\n",
    "print('''♪ღ♪*•.¸¸.•*¨¨*•.♪ღ♪*•.¸¸.•*¨¨*•.♪ღ♪\n",
    "░H░A░P░P░Y░♪░B░I░R░T░H░D░A░Y░\n",
    "♪ღ♪*•.¸¸.•*¨¨*•.♪ღ♪*•.¸¸.•*¨¨*•.♪ღ♪''')"
   ]
  },
  {
   "cell_type": "code",
   "execution_count": null,
   "metadata": {
    "colab": {},
    "colab_type": "code",
    "id": "9cz9dsoDXBia",
    "outputId": "bd75a00f-b8c1-460b-a1af-41f7aec471c8"
   },
   "outputs": [
    {
     "name": "stdout",
     "output_type": "stream",
     "text": [
      "hello world\n",
      "I am 18 years old.\n"
     ]
    }
   ],
   "source": [
    "# 用逗號分隔字串(或變數)，印出效果為空格\n",
    "print('hello', 'world')\n",
    "\n",
    "print('I am', 18, 'years old.')"
   ]
  },
  {
   "cell_type": "code",
   "execution_count": null,
   "metadata": {
    "colab": {},
    "colab_type": "code",
    "id": "me8L3fkvXBic",
    "outputId": "ff7a700c-5874-49ba-b93e-dfa0f35cb35e"
   },
   "outputs": [
    {
     "name": "stdout",
     "output_type": "stream",
     "text": [
      "helloworld\n"
     ]
    }
   ],
   "source": [
    "# print 預設會在結尾換行，若要印出且不換行，在後面加入 end=''\n",
    "print('hello', end='')\n",
    "# 則下一次輸出會接在同一行的後面\n",
    "print('world')"
   ]
  },
  {
   "cell_type": "code",
   "execution_count": null,
   "metadata": {
    "colab": {},
    "colab_type": "code",
    "id": "jh1Tih8YXBie",
    "outputId": "eaf33bf2-11f3-4aa7-b61e-477b1f8b461f"
   },
   "outputs": [
    {
     "name": "stdout",
     "output_type": "stream",
     "text": [
      "An apple cost 50 dollars.\n",
      "An apple cost 50 dollars and a banana cost 15.\n"
     ]
    }
   ],
   "source": [
    "# 印出帶有變數字串，在要印變數的地方輸入變數的 format code，並在字串後面輸入 % 後擺放變數\n",
    "# format code: 整數 %d, 浮點數 %f, 字串 %s\n",
    "# format code 的詳細部分會在後面章節說明。\n",
    "\n",
    "# 第一種方法\n",
    "aPrice = 50\n",
    "print(\"An apple cost %d dollars.\" % aPrice)\n",
    "\n",
    "# 印出帶有多變數字串，在要印變數的地方依序輸入變數的 format code，並在字串的後面將變數依序擺放至小括號。\n",
    "bPrice = 15\n",
    "\n",
    "print(\"An apple cost %d dollars and a banana cost %d.\" % (aPrice, bPrice))"
   ]
  },
  {
   "cell_type": "code",
   "execution_count": null,
   "metadata": {
    "colab": {},
    "colab_type": "code",
    "id": "8VOu0i5aXBig",
    "outputId": "52253d52-d28a-4ff5-e9f1-167ce19e1029"
   },
   "outputs": [
    {
     "name": "stdout",
     "output_type": "stream",
     "text": [
      "An apple cost 50 dollars and a banana cost 15.\n"
     ]
    }
   ],
   "source": [
    "# 第二種方法\n",
    "# format string，用需要印出變數的地方輸入大括號，並在字串後面以 .format() 填入對應的變數\n",
    "# 此方法的好處是不用記 format code。\n",
    "print(\"An apple cost {} dollars and a banana cost {}.\".format(aPrice, bPrice))"
   ]
  },
  {
   "cell_type": "code",
   "execution_count": null,
   "metadata": {
    "colab": {},
    "colab_type": "code",
    "id": "61W32kqaXBii",
    "outputId": "62dd376d-9702-4295-b312-df3565842c62"
   },
   "outputs": [
    {
     "name": "stdout",
     "output_type": "stream",
     "text": [
      "An apple cost 50 dollars and a banana cost 15.\n"
     ]
    }
   ],
   "source": [
    "# 第三種方法\n",
    "# f-string，直接將變數以大括號包著，置入字串中輸出\n",
    "# 目前最推薦的印出方式，相較於前兩種既直覺又彈性。\n",
    "print(f'An apple cost {aPrice} dollars and a banana cost {bPrice}.')"
   ]
  },
  {
   "cell_type": "markdown",
   "metadata": {
    "colab_type": "text",
    "id": "r6cqBuuDXBil"
   },
   "source": [
    " ## 讀入"
   ]
  },
  {
   "cell_type": "code",
   "execution_count": null,
   "metadata": {
    "colab": {},
    "colab_type": "code",
    "id": "LM6JYbwuXBim",
    "outputId": "f0dedfd0-9ba9-483d-e033-e9924b21e785"
   },
   "outputs": [
    {
     "name": "stdout",
     "output_type": "stream",
     "text": [
      "sophie\n"
     ]
    }
   ],
   "source": [
    "name = input()"
   ]
  },
  {
   "cell_type": "code",
   "execution_count": null,
   "metadata": {
    "colab": {},
    "colab_type": "code",
    "id": "KOs-rv4GXBiq",
    "outputId": "e9419f28-1fc9-49c3-dd96-6559c6c1d7ce"
   },
   "outputs": [
    {
     "name": "stdout",
     "output_type": "stream",
     "text": [
      "sophie\n"
     ]
    }
   ],
   "source": [
    "print(name)"
   ]
  },
  {
   "cell_type": "code",
   "execution_count": null,
   "metadata": {
    "colab": {},
    "colab_type": "code",
    "id": "M49qhn4tXBis",
    "outputId": "dbbc9aa6-50c3-491e-b641-23dc1a425f08"
   },
   "outputs": [
    {
     "name": "stdout",
     "output_type": "stream",
     "text": [
      "Please enter your name:sophie\n"
     ]
    }
   ],
   "source": [
    "# input有互動性功能，可在括號內鍵入互動字串與使用者傳達訊息\n",
    "name =input('Please enter your name:')"
   ]
  },
  {
   "cell_type": "markdown",
   "metadata": {
    "colab_type": "text",
    "id": "AAPuj_caXBiu"
   },
   "source": [
    "## 加入註解"
   ]
  },
  {
   "cell_type": "code",
   "execution_count": null,
   "metadata": {
    "colab": {},
    "colab_type": "code",
    "id": "QUealC_MXBiu",
    "outputId": "795f5296-a132-4bb1-b821-f0869f2b01fc"
   },
   "outputs": [
    {
     "name": "stdout",
     "output_type": "stream",
     "text": [
      "\n"
     ]
    }
   ],
   "source": [
    "# 單行註解在開頭鍵入井字號\n",
    "\n",
    "\"\"\"\n",
    "    多行註解則在前後各加入三個雙引號\n",
    "    如此一來可以在引號區間內不限制地加入註解唷\n",
    "    /\\︵-︵/\\\n",
    "    |(◉)(◉)|\n",
    "    \\ ︶V︶ /\n",
    "    /↺↺↺↺  \\\n",
    "    ↺↺↺↺↺   |\n",
    "    \\↺↺↺↺  /\n",
    "    ¯¯/\\¯/\\¯\n",
    "\"\"\"\n",
    "print()"
   ]
  },
  {
   "cell_type": "code",
   "execution_count": null,
   "metadata": {
    "colab": {},
    "colab_type": "code",
    "id": "FB_kR-3RWwpN"
   },
   "outputs": [],
   "source": []
  }
 ],
 "metadata": {
  "colab": {
   "include_colab_link": true,
   "name": "IO_comment",
   "provenance": []
  },
  "kernelspec": {
   "display_name": "Python 3 (ipykernel)",
   "language": "python",
   "name": "python3"
  },
  "language_info": {
   "codemirror_mode": {
    "name": "ipython",
    "version": 3
   },
   "file_extension": ".py",
   "mimetype": "text/x-python",
   "name": "python",
   "nbconvert_exporter": "python",
   "pygments_lexer": "ipython3",
   "version": "3.7.13"
  }
 },
 "nbformat": 4,
 "nbformat_minor": 1
}

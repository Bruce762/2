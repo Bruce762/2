{
 "cells": [
  {
   "cell_type": "markdown",
   "metadata": {
    "colab_type": "text",
    "id": "view-in-github"
   },
   "source": [
    "<a href=\"https://colab.research.google.com/github/HsiaoEn/python-programming/blob/master/3.FormatString_FormatCode/FormatString_FormatCode.ipynb\" target=\"_parent\"><img src=\"https://colab.research.google.com/assets/colab-badge.svg\" alt=\"Open In Colab\"/></a>"
   ]
  },
  {
   "cell_type": "markdown",
   "metadata": {
    "colab_type": "text",
    "id": "xQXL5OR9oBvS"
   },
   "source": [
    "## 格式化字串 Format String/Format Code"
   ]
  },
  {
   "cell_type": "markdown",
   "metadata": {
    "colab_type": "text",
    "id": "A7yhQNhhoBvU"
   },
   "source": [
    "格式化字串是各個型態的變數被 print 出來時的格式定義，例如浮點數要印幾位、整數要以幾進位印出等。\n",
    "\n",
    "整數　　　　　|   %d   | decimal\n",
    "\n",
    "整數八進位　　|   %o   | octal  \n",
    "\n",
    "整數十六進位　|   %x   | hexadecimal\n",
    "\n",
    "浮點數　　　　|   %f   | float \n",
    "\n",
    "字串　　　　　|   %s   | string"
   ]
  },
  {
   "cell_type": "code",
   "execution_count": null,
   "metadata": {
    "colab": {},
    "colab_type": "code",
    "id": "gSMXJ3c1oBvW",
    "outputId": "df2518d2-77d6-41ff-f412-e73990635b1f"
   },
   "outputs": [
    {
     "name": "stdout",
     "output_type": "stream",
     "text": [
      "123 123.000000 ABC\n"
     ]
    }
   ],
   "source": [
    "I, F, S = 123, 123.0, 'ABC'\n",
    "print(\"%d %f %s\" % (I, F, S))\n",
    "\n",
    "# 一般整數使用 %d (八進位為 %o, 十六進位為 %x, 二進位為 %b，可自行嘗試)\n",
    "#print(\"%d %o %x\" % (I, I, I))\n",
    "\n",
    "# 浮點數為 %f (科學記號 %e) \n",
    "#print(\"%f %e\" % (F, F))\n",
    "\n",
    "# 字串為 %s\n",
    "#print(\"%s\" % S)\n",
    "\n",
    "# f-string 模式下則會視變數種類自動判斷輸出 format，所以若無特殊格式需求可不用打格式字串化\n",
    "#print(f'{I} {F} {S}')"
   ]
  },
  {
   "cell_type": "code",
   "execution_count": null,
   "metadata": {
    "colab": {},
    "colab_type": "code",
    "id": "1FBRA1sKoBvn",
    "outputId": "c5006c05-3237-4b83-b1c8-121cbbbcef05"
   },
   "outputs": [
    {
     "name": "stdout",
     "output_type": "stream",
     "text": [
      "I = 123\n",
      "I =    123\n",
      "I = 000123\n"
     ]
    }
   ],
   "source": [
    "# 預設正常輸出變數\n",
    "print(f'I = {I}')\n",
    "# 若要讓這個變數佔 6 格(預設置右)，在 d 前加入想要佔的位數，以下行為例，輸出為 _ _ _ 1 2 3 (底線為空格)\n",
    "print(f'I = {I:6d}')\n",
    "# 若要讓這個變數佔 6 格(預設置右)，且多餘的空位補 0，則在 6d 前再加入一個 0，以下行為例， 輸出為 0 0 0 1 2 3\n",
    "print(f'I = {I:06d}')"
   ]
  },
  {
   "cell_type": "code",
   "execution_count": null,
   "metadata": {
    "colab": {},
    "colab_type": "code",
    "id": "jqszdNnuoBvs",
    "outputId": "52e2e30a-e581-4c50-ae56-4de81970a6e4"
   },
   "outputs": [
    {
     "name": "stdout",
     "output_type": "stream",
     "text": [
      "3.14159265358\n",
      "3.1416\n",
      "      3.1416\n",
      "0000003.1416\n"
     ]
    }
   ],
   "source": [
    "pi = 3.14159265358\n",
    "\n",
    "# 預設將變數置左，並輸出多位小數點\n",
    "print(f'{pi}')\n",
    "# 指定小數點位數，在 f 前加入需要的小數點位數，並前面再加一個點號\n",
    "print(f'{pi:.4f}')\n",
    "# 若想像整數一樣佔固定格數，在點號前加入總共(含小數)想要佔的位數，以下行為例， _ _ _ _ 3 . 1 4 1 6 (總共10格置右，小數點4位)\n",
    "print(f'{pi:12.4f}')\n",
    "# 若想在佔格的多餘處補 0，在想要佔的位數前面再加入一個 0\n",
    "print(f'{pi:012.4f}')"
   ]
  },
  {
   "cell_type": "markdown",
   "metadata": {
    "colab_type": "text",
    "id": "2IlN7PvNoBv-"
   },
   "source": [
    "---"
   ]
  }
 ],
 "metadata": {
  "colab": {
   "collapsed_sections": [],
   "include_colab_link": true,
   "name": "FormatString_FormatCode",
   "provenance": []
  },
  "kernelspec": {
   "display_name": "Python 3 (ipykernel)",
   "language": "python",
   "name": "python3"
  },
  "language_info": {
   "codemirror_mode": {
    "name": "ipython",
    "version": 3
   },
   "file_extension": ".py",
   "mimetype": "text/x-python",
   "name": "python",
   "nbconvert_exporter": "python",
   "pygments_lexer": "ipython3",
   "version": "3.7.13"
  }
 },
 "nbformat": 4,
 "nbformat_minor": 1
}
